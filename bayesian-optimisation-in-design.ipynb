{
 "cells": [
  {
   "cell_type": "markdown",
   "metadata": {
    "slideshow": {
     "slide_type": "slide"
    }
   },
   "source": [
    "# Bayesian Optimisation in Engineering and Product Design"
   ]
  },
  {
   "cell_type": "markdown",
   "metadata": {
    "slideshow": {
     "slide_type": "slide"
    }
   },
   "source": [
    "<img src=\"img/examples.png\" style=\"width: 100%;\"/>"
   ]
  },
  {
   "cell_type": "code",
   "execution_count": 1,
   "metadata": {
    "slideshow": {
     "slide_type": "skip"
    }
   },
   "outputs": [],
   "source": [
    "import numpy as np\n",
    "import matplotlib.pylab as plt\n",
    "import scipy.optimize as so\n",
    "from pyDOE import lhs"
   ]
  },
  {
   "cell_type": "code",
   "execution_count": 2,
   "metadata": {
    "slideshow": {
     "slide_type": "skip"
    }
   },
   "outputs": [],
   "source": [
    "#%matplotlib inline\n",
    "#%config InlineBackend.close_figures=False"
   ]
  },
  {
   "cell_type": "code",
   "execution_count": 3,
   "metadata": {
    "slideshow": {
     "slide_type": "skip"
    }
   },
   "outputs": [],
   "source": [
    "class GaussianProcess():\n",
    "    def __init__(self, x, y):\n",
    "        self.x = x\n",
    "        self.y = y\n",
    "        self.eps = np.finfo(float).eps\n",
    "\n",
    "    def get_covar(self, x, theta):\n",
    "        n, m = x.shape\n",
    "        K = np.zeros((n, n))\n",
    "        for i in range(n):\n",
    "            for j in range(i+1, n):\n",
    "                D = (1/theta[0:m]) * (x[i] - x[j]) ** 2\n",
    "                K[i,j] = np.exp(-sum(D))\n",
    "                K[j,i] = K[i,j]\n",
    "        return K + theta[m]*np.eye(n) + np.eye(n)\n",
    "    \n",
    "    def train(self):\n",
    "        n, m = self.x.shape\n",
    "        bounds = list(zip([0.01]*m, [10]*m))\n",
    "        bounds.append((self.eps, np.var(self.y)))\n",
    "        x0 = [0.1] * m \n",
    "        x0.append(10e-6 * np.var(self.y))\n",
    "        result = so.minimize(self._nl, x0=x0, bounds=bounds)\n",
    "        self.theta = result.x\n",
    "        \n",
    "    def _nl(self, theta):\n",
    "        n, m = self.x.shape\n",
    "        K = self.get_covar(self.x, theta)\n",
    "        try:\n",
    "            L = np.linalg.cholesky(K)\n",
    "        except np.linalg.linalg.LinAlgError:\n",
    "            return 10e4\n",
    "        Ly = np.linalg.solve(L, self.y)\n",
    "        _, ldetK = np.linalg.slogdet(K)\n",
    "        ll = -(n/2) * np.log(np.dot(Ly.T, np.linalg.solve(L, self.y))) - (1/2) * ldetK\n",
    "        return -ll \n",
    "        \n",
    "    def predict(self, xpred):\n",
    "        n, m = self.x.shape\n",
    "        if self.theta is None:\n",
    "            raise 'Need to train before predict'\n",
    "        K = self.get_covar(self.x, self.theta)\n",
    "        K_xpred = self.get_covar(xpred, self.theta)\n",
    "\n",
    "        npred = len(xpred)\n",
    "        K_aug = np.zeros((npred, n))\n",
    "        for i in range(npred):\n",
    "            for j in range(n):\n",
    "                D = (1/self.theta[0:m]) * (xpred[i] - self.x[j]) ** 2\n",
    "                K_aug[i,j] = np.exp(-sum(D))\n",
    "                \n",
    "        # using chol\n",
    "        L = np.linalg.cholesky(K)\n",
    "        Lr = np.linalg.solve(L, K_aug.T)\n",
    "        mubar = np.dot(Lr.T, np.linalg.solve(L, self.y))\n",
    "        s2bar = np.clip(K_xpred - np.dot(Lr.T, np.linalg.solve(L, K_aug.T)), 1e-10, np.inf)\n",
    "        sbar = np.sqrt(np.abs(np.diag(s2bar)))\n",
    "        return mubar.flatten(), sbar.flatten()\n",
    "    \n",
    "    def CDF(self, x):\n",
    "        return 0.5 * (1 + self.erf(x * np.sqrt(2))) \n",
    "            \n",
    "    def PDF(self, x):\n",
    "        return np.exp(-0.5 * x**2) / np.sqrt(2*np.pi)\n",
    "    \n",
    "    def erf(self, z):\n",
    "        t = 1.0 / (1.0 + 0.5 * np.abs(z))\n",
    "        # use Horner's method\n",
    "        ans = 1 - t * np.exp( -z*z -  1.26551223 +\n",
    "                                    t * ( 1.00002368 +\n",
    "                                    t * ( 0.37409196 + \n",
    "                                    t * ( 0.09678418 + \n",
    "                                    t * (-0.18628806 + \n",
    "                                    t * ( 0.27886807 + \n",
    "                                    t * (-1.13520398 + \n",
    "                                    t * ( 1.48851587 + \n",
    "                                    t * (-0.82215223 + \n",
    "                                    t * ( 0.17087277))))))))))\n",
    "        \n",
    "        if isinstance(ans, np.float64): \n",
    "            if z < 0.0:\n",
    "                ans = -ans\n",
    "        else:\n",
    "            ans[z<0.0] = -ans[z<0.0]            \n",
    "        return ans\n",
    "    \n",
    "    def ei(self, xpred):\n",
    "        ypred, spred = self.predict(xpred)            \n",
    "        ymin = min(self.y)\n",
    "        ydiff = ymin - ypred\n",
    "        Z = ydiff / spred\n",
    "        exp_imp = (ydiff * self.CDF(Z)) + (spred * self.PDF(Z))\n",
    "        return exp_imp\n",
    "    \n",
    "    def negei(self, xpred):\n",
    "        exp_imp = self.ei(np.array([xpred]))\n",
    "        return -exp_imp\n",
    "    \n",
    "    def add_data(self, x, y):\n",
    "        self.x = np.vstack([self.x, x])\n",
    "        self.y = np.vstack([self.y, y])\n",
    "        self.train()  "
   ]
  },
  {
   "cell_type": "code",
   "execution_count": 4,
   "metadata": {
    "slideshow": {
     "slide_type": "skip"
    }
   },
   "outputs": [],
   "source": [
    "def simple_model(x):\n",
    "    f = ((6*x - 2)**2) * np.sin(12*x - 4) \n",
    "    return f"
   ]
  },
  {
   "cell_type": "code",
   "execution_count": 5,
   "metadata": {
    "slideshow": {
     "slide_type": "skip"
    }
   },
   "outputs": [],
   "source": [
    "def multistart_minimize(fun, bounds):\n",
    "    m = len(bounds)\n",
    "    n_starts = m * 20\n",
    "    random_starts = lhs(m,n_starts)#np.random.uniform(size=(n_starts,m)) #need to scale this to x\n",
    "    starts = np.zeros((n_starts,m))\n",
    "    for d in range(m):\n",
    "        lb = bounds[d][0]\n",
    "        ub = bounds[d][1]\n",
    "        starts[:,d] = random_starts[:,d] * (ub - lb) + lb\n",
    "    ymin = np.inf\n",
    "    xmin = 0\n",
    "    for start in starts:\n",
    "        result = so.minimize(fun, x0=start, bounds=bounds)\n",
    "        if result.fun < ymin:\n",
    "            ymin = result.fun\n",
    "            xmin = np.array(result.x)\n",
    "    return xmin, ymin"
   ]
  },
  {
   "cell_type": "code",
   "execution_count": 6,
   "metadata": {
    "slideshow": {
     "slide_type": "skip"
    }
   },
   "outputs": [],
   "source": [
    "from ipywidgets import widgets\n",
    "from IPython.display import display,clear_output\n",
    "\n",
    "plt.rcParams['figure.figsize'] = (20, 8)\n",
    "\n",
    "\n",
    "np.random.seed(1317)\n",
    "n_obs = 5\n",
    "x_obs = lhs(1, n_obs)\n",
    "y_obs = simple_model(x_obs)\n",
    "gp = GaussianProcess(x=x_obs, y=y_obs)\n",
    "gp.train()\n",
    "\n",
    "ni = 100\n",
    "xi = np.linspace(0,1,ni).reshape(ni,1)\n",
    "yi = simple_model(xi)\n",
    "\n",
    "mubar, sbar = gp.predict(xi)\n",
    "ei = gp.ei(xi)\n",
    "\n",
    "class Clicks:\n",
    "    def __init__(self, gp):\n",
    "        self.gp = gp\n",
    "        self.i = 0\n",
    "    \n",
    "    def click(self, b):\n",
    "        if b is None:\n",
    "            mubar = np.zeros(len(xi))\n",
    "            sbar = np.ones(len(xi))\n",
    "            ax1.scatter(-1,-1, label='Observations')\n",
    "            ax1.plot(xi, yi, color=(0.8, 0.8, 0.8), label='True (unknown) function')\n",
    "            ax1.plot(xi, mubar, color=(0.122, 0.529, 0.8), label='GP prediction')\n",
    "            ax1.fill_between(xi.flatten(), mubar+3*sbar, mubar-3*sbar, color=(0.122, 0.529, 0.8, 0.2))\n",
    "            ax1.set_xlim(0,1)\n",
    "            ax1.set_xlabel('Design parameter value $x_1$')\n",
    "            ax1.set_ylabel('Objective value $f(x_1)$')\n",
    "            ax1.legend()\n",
    "            ax1.set_title('Observations and GP prediction')\n",
    "            ax2.set_xlim(0,1)\n",
    "            ax2.axis('off')\n",
    "        else:\n",
    "            if self.i == 0:\n",
    "                mubar, sbar = gp.predict(xi)\n",
    "                ei = gp.ei(xi)\n",
    "                \n",
    "                ax1.clear()\n",
    "                ax2.clear()\n",
    "                ax1.scatter(self.gp.x, self.gp.y, label='Observations')\n",
    "                ax1.plot(xi, yi, color=(0.8, 0.8, 0.8), label='True (unknown) function')\n",
    "                ax1.plot(xi, mubar, color=(0.122, 0.529, 0.8), label='GP prediction')\n",
    "                ax1.fill_between(xi.flatten(), mubar+3*sbar, mubar-3*sbar, color=(0.122, 0.529, 0.8, 0.2))\n",
    "                ax1.set_xlim(0,1)\n",
    "                ax1.set_xlabel('Design parameter value $x_1$')\n",
    "                ax1.set_ylabel('Objective value $f(x_1)$')\n",
    "                ax1.legend()\n",
    "                ax1.set_title('Observations and GP prediction')\n",
    "                ax2.plot(xi, ei, color=(1.0, 0.56, 0.06))\n",
    "                ax2.set_title('Acquisition function')\n",
    "                ax2.set_xlim(0,1)\n",
    "                ax2.set_xlabel('Design parameter value $x_1$')\n",
    "                ax2.set_ylabel('Expected improvement $EI(f(x_1) < y_{min})$')\n",
    "                self.i = 1\n",
    "            else:\n",
    "                newx, _ = multistart_minimize(self.gp.negei, bounds=[(0,1)])\n",
    "                newy = simple_model(newx)\n",
    "                self.gp.add_data(newx, newy)\n",
    "                mubar, sbar = gp.predict(xi)\n",
    "                ei = gp.ei(xi)\n",
    "\n",
    "                ax1.clear()\n",
    "                ax2.clear()\n",
    "                ax1.scatter(self.gp.x, self.gp.y, label='Observations')\n",
    "                ax1.plot(xi, yi, color=(0.8, 0.8, 0.8), label='True (unknown) function')\n",
    "                ax1.plot(xi, mubar, color=(0.122, 0.529, 0.8), label='GP prediction')\n",
    "                ax1.fill_between(xi.flatten(), mubar+3*sbar, mubar-3*sbar, color=(0.122, 0.529, 0.8, 0.2))\n",
    "                ax1.set_xlim(0,1)\n",
    "                ax1.set_xlabel('Design parameter value $x_1$')\n",
    "                ax1.set_ylabel('Objective value $f(x_1)$')\n",
    "                ax1.legend()\n",
    "                ax1.set_title('Observations and GP prediction')\n",
    "                ax2.plot(xi, ei, color=(1.0, 0.56, 0.06))\n",
    "                ax2.set_title('Acquisition function')\n",
    "                ax2.set_xlim(0,1)\n",
    "                ax2.set_xlabel('Design parameter value $x_1$')\n",
    "                ax2.set_ylabel('Expected improvement $EI(f(x_1) < y_{min})$')\n",
    "        with out:\n",
    "            clear_output(wait=True)\n",
    "            display(ax.figure)\n",
    "\n",
    "plt.ioff()\n",
    "ax = plt.gca()\n",
    "ax1 = plt.subplot(121)\n",
    "ax2 = plt.subplot(122)\n",
    "\n",
    "out = widgets.Output()\n",
    "button = widgets.Button(description='Add update')\n",
    "\n",
    "box=widgets.VBox(children=(out,button))\n",
    "\n",
    "clicks = Clicks(gp)\n",
    "button.on_click(clicks.click)"
   ]
  },
  {
   "cell_type": "code",
   "execution_count": 7,
   "metadata": {
    "slideshow": {
     "slide_type": "slide"
    }
   },
   "outputs": [
    {
     "data": {
      "application/vnd.jupyter.widget-view+json": {
       "model_id": "3e969e9e52764496a96439b431b78275",
       "version_major": 2,
       "version_minor": 0
      },
      "text/plain": [
       "VBox(children=(Output(), Button(description='Add update', style=ButtonStyle())))"
      ]
     },
     "metadata": {},
     "output_type": "display_data"
    }
   ],
   "source": [
    "display(box)\n",
    "clicks.click(None)"
   ]
  },
  {
   "cell_type": "markdown",
   "metadata": {
    "slideshow": {
     "slide_type": "slide"
    }
   },
   "source": [
    "<img src=\"img/ductscene.png\" style=\"width: 1000px; margin-left: auto; margin-right: auto;\"/>"
   ]
  },
  {
   "cell_type": "markdown",
   "metadata": {
    "slideshow": {
     "slide_type": "slide"
    }
   },
   "source": [
    "<img src=\"img/animated.gif\" style=\"height: 1000px; margin-left: auto; margin-right: auto;\"/>"
   ]
  },
  {
   "cell_type": "markdown",
   "metadata": {
    "slideshow": {
     "slide_type": "slide"
    }
   },
   "source": [
    "<img src=\"img/fan_overview.png\" style=\"width: 100%; margin-left: auto; margin-right: auto;\"/>"
   ]
  },
  {
   "cell_type": "code",
   "execution_count": null,
   "metadata": {},
   "outputs": [],
   "source": []
  },
  {
   "cell_type": "markdown",
   "metadata": {
    "slideshow": {
     "slide_type": "slide"
    }
   },
   "source": [
    "<img src=\"img/final_shoe.jpg\" style=\"width: 1200px; margin-left: auto; margin-right: auto;\"/>"
   ]
  },
  {
   "cell_type": "markdown",
   "metadata": {
    "slideshow": {
     "slide_type": "slide"
    }
   },
   "source": [
    "<img src=\"img/shoe_overview.png\" style=\"width: 100%; margin-left: auto; margin-right: auto;\"/>"
   ]
  },
  {
   "cell_type": "markdown",
   "metadata": {
    "slideshow": {
     "slide_type": "slide"
    }
   },
   "source": [
    "## Using Bayesian optimisation in aesthetics"
   ]
  },
  {
   "cell_type": "code",
   "execution_count": 8,
   "metadata": {
    "slideshow": {
     "slide_type": "skip"
    }
   },
   "outputs": [],
   "source": [
    "class PreferenceBasedGP(object):\n",
    "    def __init__(self, r, c, z, theta):\n",
    "        self.r = r\n",
    "        self.c = c\n",
    "        self.z = z\n",
    "        self.theta = theta\n",
    "        self.preferences, self.X = self._get_preferences()\n",
    "        self.L = self._get_L()\n",
    "        self.Y = None\n",
    "        self.Y_guess = None\n",
    "    \n",
    "    def _get_preferences(self):\n",
    "        x2ind = {}\n",
    "        ind = 0\n",
    "        prefinds = []\n",
    "        for i in range(len(self.z)):\n",
    "            if self.r[i] not in x2ind:\n",
    "                x2ind[self.r[i]] = ind\n",
    "                ind += 1\n",
    "            if self.c[i] not in x2ind:\n",
    "                x2ind[self.c[i]] = ind\n",
    "                ind += 1\n",
    "            prefinds.append((x2ind[self.r[i]], x2ind[self.c[i]], self.z[i]))\n",
    "        X = np.array([[x] for x, _ in sorted(x2ind.items(), key=lambda x:x[1])])\n",
    "        return prefinds, X\n",
    "    \n",
    "    def get_covar(self, x, theta):\n",
    "        n, m = x.shape\n",
    "        K = np.zeros((n, n))\n",
    "        for i in range(n):\n",
    "            for j in range(i+1, n):\n",
    "                D = (1/theta[0:m]) * (x[i] - x[j]) ** 2\n",
    "                K[i,j] = np.exp(-sum(D))\n",
    "                K[j,i] = K[i,j]\n",
    "        return K + theta[m]*np.eye(n) + np.eye(n)\n",
    "    \n",
    "    def _get_L(self):\n",
    "        K = self.get_covar(self.X, self.theta)\n",
    "        L = np.linalg.cholesky(K)\n",
    "        return L\n",
    "    \n",
    "    def _get_initial_guess(self):\n",
    "        vs = set(self.r)\n",
    "        lastY = {}\n",
    "        ymin = -0.5\n",
    "        ymax = 0.5\n",
    "        \n",
    "        if self.Y is None:\n",
    "            start = []\n",
    "            for x in self.X.tolist():\n",
    "                if tuple(x) in lastY:\n",
    "                    start.append(lastY[tuple(x)])\n",
    "                else:\n",
    "                    if tuple(x) in vs:\n",
    "                        start.append(ymax)\n",
    "                    else:\n",
    "                        start.append(ymin)\n",
    "        else:\n",
    "            for x, y in zip(self.X.tolist(), self.Y):\n",
    "                lastY[tuple(x)] = y\n",
    "            start = []\n",
    "            for x in self.X.tolist():\n",
    "                if tuple(x) in lastY:\n",
    "                    start.append(lastY[tuple(x)])\n",
    "                else:\n",
    "                    if tuple(x) in vs:\n",
    "                        start.append(ymax)\n",
    "                    else:\n",
    "                        start.append(ymin)\n",
    "        return start\n",
    "    \n",
    "    def CDF(self, x):\n",
    "        return 0.5 * (1 + self.erf((x) * 0.707106))\n",
    "            \n",
    "    def PDF(self, x):\n",
    "        return  np.exp(-(x**2/2)) * 0.398942\n",
    "    \n",
    "    def erf(self, z):\n",
    "        t = 1.0 / (1.0 + 0.5 * np.abs(z))\n",
    "        # use Horner's method\n",
    "        ans = 1 - t * np.exp( -z*z -  1.26551223 +\n",
    "                                    t * ( 1.00002368 +\n",
    "                                    t * ( 0.37409196 + \n",
    "                                    t * ( 0.09678418 + \n",
    "                                    t * (-0.18628806 + \n",
    "                                    t * ( 0.27886807 + \n",
    "                                    t * (-1.13520398 + \n",
    "                                    t * ( 1.48851587 + \n",
    "                                    t * (-0.82215223 + \n",
    "                                    t * ( 0.17087277))))))))))\n",
    "        \n",
    "        if isinstance(ans, np.float64): \n",
    "            if z < 0.0:\n",
    "                ans = -ans\n",
    "        else:\n",
    "            ans[z<0.0] = -ans[z<0.0]            \n",
    "        return ans\n",
    "            \n",
    "    \n",
    "    def S(self, x):\n",
    "        logCDFs = 0.\n",
    "        sigma = 1\n",
    "        epsilon = 1e-10\n",
    "        Z = np.sqrt(2) * sigma\n",
    "        for v, u, d in self.preferences:\n",
    "            logCDFs += (d+1) * np.log(self.CDF((x[v]-x[u])/Z)+epsilon)\n",
    "            Lx = np.linalg.solve(self.L, x)\n",
    "            val = -logCDFs + np.dot(Lx, Lx)/2\n",
    "        return val\n",
    "        \n",
    "    def train(self):\n",
    "        y_guess = self._get_initial_guess()\n",
    "        result = so.minimize(self.S, y_guess)\n",
    "        self.Y = result.x\n",
    "        \n",
    "    def predict(self, xpred):\n",
    "        n, m = self.X.shape\n",
    "        if self.theta is None:\n",
    "            raise 'Need to train before predict'\n",
    "        K = self.get_covar(self.X, self.theta)\n",
    "        K_xpred = self.get_covar(xpred, self.theta)\n",
    "\n",
    "        npred = len(xpred)\n",
    "        K_aug = np.zeros((npred, n))\n",
    "        for i in range(npred):\n",
    "            for j in range(n):\n",
    "                D = (1/self.theta[0:m]) * (xpred[i] - self.X[j]) ** 2\n",
    "                K_aug[i,j] = np.exp(-sum(D))\n",
    "        \n",
    "        # using chol\n",
    "        L = np.linalg.cholesky(K)\n",
    "        Lr = np.linalg.solve(L, K_aug.T)\n",
    "        mubar = np.dot(Lr.T, np.linalg.solve(L, self.Y))\n",
    "        s2bar = np.clip(K_xpred - np.dot(Lr.T, np.linalg.solve(L, K_aug.T)), 1e-10, np.inf)\n",
    "        sbar = np.sqrt(np.abs(np.diag(s2bar)))\n",
    "        return mubar.flatten(), sbar.flatten()\n",
    "    \n",
    "    def ei(self, xpred):\n",
    "        ypred, spred = self.predict(xpred)\n",
    "        ymax = max(self.Y)\n",
    "        ydiff = ypred - ymax\n",
    "        Z = ydiff / spred\n",
    "        exp_imp = (ydiff * self.CDF(Z)) + (spred * self.PDF(Z))\n",
    "        return exp_imp\n",
    "    \n",
    "    def negei(self, xpred):\n",
    "        exp_imp = self.ei(np.array([xpred]))\n",
    "        return -exp_imp\n",
    "    \n",
    "    def add_data(self, r, c, z):\n",
    "        for i in r: self.r.append(i)\n",
    "        for j in c: self.c.append(j)\n",
    "        for k in z: self.z.append(k)\n",
    "        self.preferences, self.X = self._get_preferences()\n",
    "        self.L = self._get_L()\n",
    "        self.train()    "
   ]
  },
  {
   "cell_type": "code",
   "execution_count": 9,
   "metadata": {
    "slideshow": {
     "slide_type": "skip"
    }
   },
   "outputs": [],
   "source": [
    "from PIL import Image\n",
    "\n",
    "def change_contrast(x):\n",
    "    img = Image.open(\"img/warhol.jpeg\")\n",
    "    img.load()\n",
    "    level = (1000 * x) - 500\n",
    "    factor = (259 * (level+255)) / (255 * (259-level))\n",
    "    for x in range(img.size[0]):\n",
    "        for y in range(img.size[1]):\n",
    "            color = img.getpixel((x, y))\n",
    "            new_color = tuple(int(factor * (c-128) + 128) for c in color)\n",
    "            img.putpixel((x, y), new_color)\n",
    "    return img"
   ]
  },
  {
   "cell_type": "code",
   "execution_count": 10,
   "metadata": {
    "slideshow": {
     "slide_type": "skip"
    }
   },
   "outputs": [],
   "source": [
    "plt.close()\n",
    "np.random.seed(30786)\n",
    "n = 5\n",
    "xn = lhs(1,n)\n",
    "left_value = np.random.random()\n",
    "right_value = xn[0][0]\n",
    "\n",
    "pref_out_left=widgets.Output()\n",
    "pref_out_right=widgets.Output()\n",
    "\n",
    "pref_button_left=widgets.Button(description='Left is best')\n",
    "pref_button_right=widgets.Button(description='Right is best')\n",
    "\n",
    "pref_box=widgets.HBox(children=(widgets.VBox(children=(pref_out_left, pref_button_left)),\n",
    "                            widgets.VBox(children=(pref_out_right, pref_button_right))))\n",
    "\n",
    "class PrefClicks:\n",
    "    def __init__(self, left_value, right_value, xn):\n",
    "        self.i = 0\n",
    "        self.left_value = left_value\n",
    "        self.right_value = right_value\n",
    "        self.xn = xn\n",
    "        self.n = len(xn)\n",
    "        self.r = []\n",
    "        self.c = []\n",
    "        self.z = []\n",
    "        #self.gp = None\n",
    "    \n",
    "    def click_left(self, b):\n",
    "        if b is not None:\n",
    "            self.i += 1\n",
    "            self.r.append(self.left_value)\n",
    "            self.c.append(self.right_value)\n",
    "            self.z.append(1)\n",
    "        if self.i == self.n:\n",
    "            self.gp = PreferenceBasedGP(r=self.r, c=self.c, z=self.z, theta=np.array([0.05, 0.005]))\n",
    "            self.gp.train()\n",
    "            xmin, ymin = multistart_minimize(self.gp.negei, bounds=[(0, 1)])\n",
    "            self.right_value = xmin[0]\n",
    "        elif self.i > self.n:\n",
    "            self.gp.add_data(r=[self.left_value], c=[self.right_value], z = [1])\n",
    "            xmin, ymin = multistart_minimize(self.gp.negei, bounds=[(0, 1)])\n",
    "            self.right_value = xmin[0]\n",
    "        else:\n",
    "            if self.i > 0:\n",
    "                self.right_value = self.xn[self.i][0]\n",
    "        img_right = change_contrast(self.right_value)\n",
    "        ax_right.imshow(np.asarray(img_right))\n",
    "        with pref_out_right:\n",
    "            clear_output(wait=True)\n",
    "            display(ax_right.figure)\n",
    "\n",
    "    def click_right(self, b):\n",
    "        if b is not None:\n",
    "            self.i += 1\n",
    "            self.r.append(self.left_value)\n",
    "            self.c.append(self.right_value)\n",
    "            self.z.append(0)\n",
    "        if self.i == self.n:\n",
    "            self.gp = PreferenceBasedGP(r=self.r, c=self.c, z=self.z, theta=np.array([0.05, 0.005]))\n",
    "            self.gp.train()\n",
    "            xmin, ymin = multistart_minimize(self.gp.negei, bounds=[(0, 1)])\n",
    "            self.left_value = xmin[0]\n",
    "        elif self.i > self.n:\n",
    "            self.gp.add_data(r=[self.left_value], c=[self.right_value], z = [0])\n",
    "            xmin, ymin = multistart_minimize(self.gp.negei, bounds=[(0, 1)])\n",
    "            self.left_value = xmin[0]\n",
    "        else:\n",
    "            if self.i > 0:\n",
    "                self.left_value = self.xn[self.i][0]\n",
    "        img_left = change_contrast(self.left_value)\n",
    "        ax_left.imshow(np.asarray(img_left))\n",
    "        with pref_out_left:\n",
    "            clear_output(wait=True)\n",
    "            display(ax_left.figure)\n",
    "\n",
    "plt.cla()\n",
    "plt.ioff()\n",
    "ax_left = plt.gca()\n",
    "ax_left.axis('off')\n",
    "\n",
    "plt.ioff()\n",
    "ax_right = plt.gca()\n",
    "ax_right.axis('off')\n",
    "\n",
    "pref_clicks = PrefClicks(left_value, right_value, xn)\n",
    "pref_button_left.on_click(pref_clicks.click_left)\n",
    "pref_button_right.on_click(pref_clicks.click_right)"
   ]
  },
  {
   "cell_type": "code",
   "execution_count": 11,
   "metadata": {
    "slideshow": {
     "slide_type": "slide"
    }
   },
   "outputs": [
    {
     "data": {
      "application/vnd.jupyter.widget-view+json": {
       "model_id": "30d0927fb3a848989c0b177ea7d0ac47",
       "version_major": 2,
       "version_minor": 0
      },
      "text/plain": [
       "HBox(children=(VBox(children=(Output(), Button(description='Left is best', style=ButtonStyle()))), VBox(childr…"
      ]
     },
     "metadata": {},
     "output_type": "display_data"
    }
   ],
   "source": [
    "display(pref_box)\n",
    "pref_clicks.click_left(None)\n",
    "pref_clicks.click_right(None)"
   ]
  },
  {
   "cell_type": "code",
   "execution_count": 12,
   "metadata": {
    "slideshow": {
     "slide_type": "skip"
    }
   },
   "outputs": [],
   "source": [
    "def gp_pref():\n",
    "    ni = 50\n",
    "    xi = np.linspace(0, 1, ni).reshape(ni,1)\n",
    "\n",
    "    gp_pref = plt.figure(figsize=(20,10))\n",
    "    plt.subplot(121)\n",
    "    plt.scatter(pref_clicks.gp.X, pref_clicks.gp.Y, label='Observations')\n",
    "    ypred, spred = pref_clicks.gp.predict(xi)\n",
    "    ei = pref_clicks.gp.ei(xi)\n",
    "    plt.plot(xi, ypred, color=(0.122, 0.529, 0.8), label='GP utility prediction')\n",
    "    plt.fill_between(xi.flatten(), ypred+2*spred, ypred-2*spred, color=(0.122, 0.529, 0.8, 0.2))\n",
    "    plt.xlabel('Design parameter value $x_1$')\n",
    "    plt.ylabel('Objective value $f(x_1)$')  \n",
    "\n",
    "    plt.subplot(122)\n",
    "    plt.plot(xi, ei, color=(1.0, 0.56, 0.06))\n",
    "    plt.xlabel('Design parameter value $x_1$')\n",
    "    plt.ylabel('Expected improvement $EI(f(x_1) > y_{max})$')\n",
    "    return gp_pref"
   ]
  },
  {
   "cell_type": "code",
   "execution_count": 13,
   "metadata": {
    "slideshow": {
     "slide_type": "skip"
    }
   },
   "outputs": [],
   "source": [
    "#import pandas as pd\n",
    "#pd.DataFrame({'r': pref_clicks.gp.r, 'c': pref_clicks.gp.c, 'z': pref_clicks.gp.z})"
   ]
  },
  {
   "cell_type": "code",
   "execution_count": 15,
   "metadata": {
    "slideshow": {
     "slide_type": "slide"
    }
   },
   "outputs": [
    {
     "data": {
      "image/png": "[encoded data removed]",
      "text/plain": [
       "<Figure size 1440x720 with 2 Axes>"
      ]
     },
     "execution_count": 15,
     "metadata": {},
     "output_type": "execute_result"
    }
   ],
   "source": [
    "gp_pref()"
   ]
  },
  {
   "cell_type": "markdown",
   "metadata": {
    "slideshow": {
     "slide_type": "slide"
    }
   },
   "source": [
    "<img src=\"img/smoke.gif\" style=\"height:600px; margin-left: auto; margin-right: auto;\"/>"
   ]
  },
  {
   "cell_type": "markdown",
   "metadata": {
    "slideshow": {
     "slide_type": "slide"
    }
   },
   "source": [
    "<img src=\"img/smoke_step.gif\" style=\"width:100%; margin-left: auto; margin-right: auto;\"/>"
   ]
  },
  {
   "cell_type": "markdown",
   "metadata": {
    "slideshow": {
     "slide_type": "slide"
    }
   },
   "source": [
    "<img src=\"img/smoke_overview.png\" style=\"width: 100%; margin-left: auto; margin-right: auto;\"/>"
   ]
  },
  {
   "cell_type": "markdown",
   "metadata": {
    "slideshow": {
     "slide_type": "slide"
    }
   },
   "source": [
    "... full talk at pydata2018\n",
    "\n",
    "https://youtu.be/DUWQiLAvr5I"
   ]
  },
  {
   "cell_type": "code",
   "execution_count": null,
   "metadata": {
    "slideshow": {
     "slide_type": "skip"
    }
   },
   "outputs": [],
   "source": [
    "import subprocess\n",
    "def get_plume(x):\n",
    "    source_velocity = 4*x[0]\n",
    "    normal_velocity = 6*x[1] - 2\n",
    "    file_name = 'sample_test' \n",
    "    # run simulation\n",
    "    p = subprocess.Popen('blender --python run_blender.py -- {} {} {}'.format(source_velocity, normal_velocity, file_name))"
   ]
  },
  {
   "cell_type": "code",
   "execution_count": null,
   "metadata": {
    "slideshow": {
     "slide_type": "skip"
    }
   },
   "outputs": [],
   "source": [
    "#get_plume([0.9195404,  0.03777169])"
   ]
  }
 ],
 "metadata": {
  "celltoolbar": "Slideshow",
  "kernelspec": {
   "display_name": "my-favourite-algorithm",
   "language": "python",
   "name": "my-favourite-algorithm"
  },
  "language_info": {
   "codemirror_mode": {
    "name": "ipython",
    "version": 3
   },
   "file_extension": ".py",
   "mimetype": "text/x-python",
   "name": "python",
   "nbconvert_exporter": "python",
   "pygments_lexer": "ipython3",
   "version": "3.6.0"
  },
  "widgets": {
   "state": {
    "970dd205e2884a77aa52904d7da92e63": {
     "views": [
      {
       "cell_index": 44
      }
     ]
    }
   },
   "version": "1.2.0"
  }
 },
 "nbformat": 4,
 "nbformat_minor": 1
}
